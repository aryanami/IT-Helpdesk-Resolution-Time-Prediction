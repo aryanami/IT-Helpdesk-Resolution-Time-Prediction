{
 "cells": [
  {
   "cell_type": "code",
   "execution_count": 66,
   "id": "76243f0a",
   "metadata": {},
   "outputs": [],
   "source": [
    "import pandas as pd"
   ]
  },
  {
   "cell_type": "code",
   "execution_count": 67,
   "id": "6b01fe3a",
   "metadata": {},
   "outputs": [
    {
     "data": {
      "text/html": [
       "<div>\n",
       "<style scoped>\n",
       "    .dataframe tbody tr th:only-of-type {\n",
       "        vertical-align: middle;\n",
       "    }\n",
       "\n",
       "    .dataframe tbody tr th {\n",
       "        vertical-align: top;\n",
       "    }\n",
       "\n",
       "    .dataframe thead th {\n",
       "        text-align: right;\n",
       "    }\n",
       "</style>\n",
       "<table border=\"1\" class=\"dataframe\">\n",
       "  <thead>\n",
       "    <tr style=\"text-align: right;\">\n",
       "      <th></th>\n",
       "      <th>ticket</th>\n",
       "      <th>requestor</th>\n",
       "      <th>RequestorSeniority</th>\n",
       "      <th>ITOwner</th>\n",
       "      <th>FiledAgainst</th>\n",
       "      <th>TicketType</th>\n",
       "      <th>Severity</th>\n",
       "      <th>Priority</th>\n",
       "      <th>daysOpen</th>\n",
       "      <th>Satisfaction</th>\n",
       "    </tr>\n",
       "  </thead>\n",
       "  <tbody>\n",
       "    <tr>\n",
       "      <th>0</th>\n",
       "      <td>1</td>\n",
       "      <td>1929</td>\n",
       "      <td>1 - Junior</td>\n",
       "      <td>50</td>\n",
       "      <td>Systems</td>\n",
       "      <td>Issue</td>\n",
       "      <td>2 - Normal</td>\n",
       "      <td>0 - Unassigned</td>\n",
       "      <td>3</td>\n",
       "      <td>1 - Unsatisfied</td>\n",
       "    </tr>\n",
       "    <tr>\n",
       "      <th>1</th>\n",
       "      <td>2</td>\n",
       "      <td>1587</td>\n",
       "      <td>2 - Regular</td>\n",
       "      <td>15</td>\n",
       "      <td>Software</td>\n",
       "      <td>Request</td>\n",
       "      <td>1 - Minor</td>\n",
       "      <td>1 - Low</td>\n",
       "      <td>5</td>\n",
       "      <td>1 - Unsatisfied</td>\n",
       "    </tr>\n",
       "    <tr>\n",
       "      <th>2</th>\n",
       "      <td>3</td>\n",
       "      <td>925</td>\n",
       "      <td>2 - Regular</td>\n",
       "      <td>15</td>\n",
       "      <td>Access/Login</td>\n",
       "      <td>Request</td>\n",
       "      <td>2 - Normal</td>\n",
       "      <td>0 - Unassigned</td>\n",
       "      <td>0</td>\n",
       "      <td>0 - Unknown</td>\n",
       "    </tr>\n",
       "    <tr>\n",
       "      <th>3</th>\n",
       "      <td>4</td>\n",
       "      <td>413</td>\n",
       "      <td>4 - Management</td>\n",
       "      <td>22</td>\n",
       "      <td>Systems</td>\n",
       "      <td>Request</td>\n",
       "      <td>2 - Normal</td>\n",
       "      <td>0 - Unassigned</td>\n",
       "      <td>20</td>\n",
       "      <td>0 - Unknown</td>\n",
       "    </tr>\n",
       "    <tr>\n",
       "      <th>4</th>\n",
       "      <td>5</td>\n",
       "      <td>318</td>\n",
       "      <td>1 - Junior</td>\n",
       "      <td>22</td>\n",
       "      <td>Access/Login</td>\n",
       "      <td>Request</td>\n",
       "      <td>2 - Normal</td>\n",
       "      <td>1 - Low</td>\n",
       "      <td>1</td>\n",
       "      <td>1 - Unsatisfied</td>\n",
       "    </tr>\n",
       "  </tbody>\n",
       "</table>\n",
       "</div>"
      ],
      "text/plain": [
       "   ticket  requestor RequestorSeniority  ITOwner  FiledAgainst TicketType  \\\n",
       "0       1       1929         1 - Junior       50       Systems      Issue   \n",
       "1       2       1587        2 - Regular       15      Software    Request   \n",
       "2       3        925        2 - Regular       15  Access/Login    Request   \n",
       "3       4        413     4 - Management       22       Systems    Request   \n",
       "4       5        318         1 - Junior       22  Access/Login    Request   \n",
       "\n",
       "     Severity        Priority  daysOpen     Satisfaction  \n",
       "0  2 - Normal  0 - Unassigned         3  1 - Unsatisfied  \n",
       "1   1 - Minor         1 - Low         5  1 - Unsatisfied  \n",
       "2  2 - Normal  0 - Unassigned         0      0 - Unknown  \n",
       "3  2 - Normal  0 - Unassigned        20      0 - Unknown  \n",
       "4  2 - Normal         1 - Low         1  1 - Unsatisfied  "
      ]
     },
     "execution_count": 67,
     "metadata": {},
     "output_type": "execute_result"
    }
   ],
   "source": [
    "df = pd.read_csv(r'D\\..\\IT-Help-Desk.csv')\n",
    "df.head(5)"
   ]
  },
  {
   "cell_type": "code",
   "execution_count": 68,
   "id": "543cbb7b",
   "metadata": {},
   "outputs": [],
   "source": [
    "df = df.drop(columns='ticket')"
   ]
  },
  {
   "cell_type": "code",
   "execution_count": 69,
   "id": "e02d9d10",
   "metadata": {},
   "outputs": [
    {
     "name": "stdout",
     "output_type": "stream",
     "text": [
      "<class 'pandas.core.frame.DataFrame'>\n",
      "RangeIndex: 100000 entries, 0 to 99999\n",
      "Data columns (total 9 columns):\n",
      " #   Column              Non-Null Count   Dtype \n",
      "---  ------              --------------   ----- \n",
      " 0   requestor           100000 non-null  int64 \n",
      " 1   RequestorSeniority  100000 non-null  object\n",
      " 2   ITOwner             100000 non-null  int64 \n",
      " 3   FiledAgainst        100000 non-null  object\n",
      " 4   TicketType          100000 non-null  object\n",
      " 5   Severity            100000 non-null  object\n",
      " 6   Priority            100000 non-null  object\n",
      " 7   daysOpen            100000 non-null  int64 \n",
      " 8   Satisfaction        100000 non-null  object\n",
      "dtypes: int64(3), object(6)\n",
      "memory usage: 6.9+ MB\n"
     ]
    }
   ],
   "source": [
    "df.info()"
   ]
  },
  {
   "cell_type": "code",
   "execution_count": 70,
   "id": "6c73bed0",
   "metadata": {},
   "outputs": [
    {
     "name": "stdout",
     "output_type": "stream",
     "text": [
      "<class 'pandas.core.frame.DataFrame'>\n",
      "RangeIndex: 98084 entries, 0 to 98083\n",
      "Data columns (total 9 columns):\n",
      " #   Column              Non-Null Count  Dtype \n",
      "---  ------              --------------  ----- \n",
      " 0   requestor           98084 non-null  int64 \n",
      " 1   RequestorSeniority  98084 non-null  object\n",
      " 2   ITOwner             98084 non-null  int64 \n",
      " 3   FiledAgainst        98084 non-null  object\n",
      " 4   TicketType          98084 non-null  object\n",
      " 5   Severity            98084 non-null  object\n",
      " 6   Priority            98084 non-null  object\n",
      " 7   daysOpen            98084 non-null  int64 \n",
      " 8   Satisfaction        98084 non-null  object\n",
      "dtypes: int64(3), object(6)\n",
      "memory usage: 6.7+ MB\n"
     ]
    }
   ],
   "source": [
    "import numpy as np\n",
    "\n",
    "cols = df.columns\n",
    "all_outliers = []\n",
    "\n",
    "for col in cols:\n",
    "    if np.issubdtype(df[col].dtype, np.number):\n",
    "        mean_val = df[col].mean()\n",
    "        sd_val = df[col].std()\n",
    "        z_scores = (df[col] - mean_val) / sd_val\n",
    "        outliers = np.where((z_scores < -3) | (z_scores > 3))[0]\n",
    "        all_outliers.extend(outliers)\n",
    "\n",
    "# Get unique indices of all outliers\n",
    "all_outliers = np.unique(all_outliers)\n",
    "\n",
    "# Remove rows with outliers\n",
    "df1 = df.drop(index=all_outliers).reset_index(drop=True)\n",
    "\n",
    "# Display the cleaned DataFrame\n",
    "df1.info()"
   ]
  },
  {
   "cell_type": "code",
   "execution_count": 37,
   "id": "33214624",
   "metadata": {},
   "outputs": [
    {
     "data": {
      "text/html": [
       "<div>\n",
       "<style scoped>\n",
       "    .dataframe tbody tr th:only-of-type {\n",
       "        vertical-align: middle;\n",
       "    }\n",
       "\n",
       "    .dataframe tbody tr th {\n",
       "        vertical-align: top;\n",
       "    }\n",
       "\n",
       "    .dataframe thead th {\n",
       "        text-align: right;\n",
       "    }\n",
       "</style>\n",
       "<table border=\"1\" class=\"dataframe\">\n",
       "  <thead>\n",
       "    <tr style=\"text-align: right;\">\n",
       "      <th></th>\n",
       "      <th>requestor</th>\n",
       "      <th>ITOwner</th>\n",
       "      <th>daysOpen</th>\n",
       "      <th>RequestorSeniority</th>\n",
       "      <th>FiledAgainst</th>\n",
       "      <th>TicketType</th>\n",
       "      <th>Severity</th>\n",
       "      <th>Priority</th>\n",
       "      <th>Satisfaction</th>\n",
       "    </tr>\n",
       "  </thead>\n",
       "  <tbody>\n",
       "    <tr>\n",
       "      <th>0</th>\n",
       "      <td>1.610737</td>\n",
       "      <td>1.699388</td>\n",
       "      <td>-0.514379</td>\n",
       "      <td>1 - Junior</td>\n",
       "      <td>Systems</td>\n",
       "      <td>Issue</td>\n",
       "      <td>2 - Normal</td>\n",
       "      <td>0 - Unassigned</td>\n",
       "      <td>1 - Unsatisfied</td>\n",
       "    </tr>\n",
       "    <tr>\n",
       "      <th>1</th>\n",
       "      <td>1.018578</td>\n",
       "      <td>-0.729287</td>\n",
       "      <td>-0.206609</td>\n",
       "      <td>2 - Regular</td>\n",
       "      <td>Software</td>\n",
       "      <td>Request</td>\n",
       "      <td>1 - Minor</td>\n",
       "      <td>1 - Low</td>\n",
       "      <td>1 - Unsatisfied</td>\n",
       "    </tr>\n",
       "    <tr>\n",
       "      <th>2</th>\n",
       "      <td>-0.127648</td>\n",
       "      <td>-0.729287</td>\n",
       "      <td>-0.976033</td>\n",
       "      <td>2 - Regular</td>\n",
       "      <td>Access/Login</td>\n",
       "      <td>Request</td>\n",
       "      <td>2 - Normal</td>\n",
       "      <td>0 - Unassigned</td>\n",
       "      <td>0 - Unknown</td>\n",
       "    </tr>\n",
       "    <tr>\n",
       "      <th>3</th>\n",
       "      <td>-1.014156</td>\n",
       "      <td>-0.243552</td>\n",
       "      <td>2.101662</td>\n",
       "      <td>4 - Management</td>\n",
       "      <td>Systems</td>\n",
       "      <td>Request</td>\n",
       "      <td>2 - Normal</td>\n",
       "      <td>0 - Unassigned</td>\n",
       "      <td>0 - Unknown</td>\n",
       "    </tr>\n",
       "    <tr>\n",
       "      <th>4</th>\n",
       "      <td>-1.178644</td>\n",
       "      <td>-0.243552</td>\n",
       "      <td>-0.822149</td>\n",
       "      <td>1 - Junior</td>\n",
       "      <td>Access/Login</td>\n",
       "      <td>Request</td>\n",
       "      <td>2 - Normal</td>\n",
       "      <td>1 - Low</td>\n",
       "      <td>1 - Unsatisfied</td>\n",
       "    </tr>\n",
       "  </tbody>\n",
       "</table>\n",
       "</div>"
      ],
      "text/plain": [
       "   requestor   ITOwner  daysOpen RequestorSeniority  FiledAgainst TicketType  \\\n",
       "0   1.610737  1.699388 -0.514379         1 - Junior       Systems      Issue   \n",
       "1   1.018578 -0.729287 -0.206609        2 - Regular      Software    Request   \n",
       "2  -0.127648 -0.729287 -0.976033        2 - Regular  Access/Login    Request   \n",
       "3  -1.014156 -0.243552  2.101662     4 - Management       Systems    Request   \n",
       "4  -1.178644 -0.243552 -0.822149         1 - Junior  Access/Login    Request   \n",
       "\n",
       "     Severity        Priority     Satisfaction  \n",
       "0  2 - Normal  0 - Unassigned  1 - Unsatisfied  \n",
       "1   1 - Minor         1 - Low  1 - Unsatisfied  \n",
       "2  2 - Normal  0 - Unassigned      0 - Unknown  \n",
       "3  2 - Normal  0 - Unassigned      0 - Unknown  \n",
       "4  2 - Normal         1 - Low  1 - Unsatisfied  "
      ]
     },
     "execution_count": 37,
     "metadata": {},
     "output_type": "execute_result"
    }
   ],
   "source": [
    "from sklearn.preprocessing import StandardScaler\n",
    "\n",
    "# Separate numeric and non-numeric columns\n",
    "numeric_columns = df1.select_dtypes(include='number')\n",
    "non_numeric_columns = df1.select_dtypes(exclude='number')\n",
    "\n",
    "# Scale numeric columns using StandardScaler from scikit-learn\n",
    "scaler = StandardScaler()\n",
    "scaled_numeric_columns = pd.DataFrame(scaler.fit_transform(numeric_columns), columns=numeric_columns.columns)\n",
    "\n",
    "# Combine scaled numeric columns and non-numeric columns\n",
    "df_s = pd.concat([scaled_numeric_columns, non_numeric_columns], axis=1)\n",
    "\n",
    "# Display the resulting DataFrame\n",
    "df_s.head()"
   ]
  },
  {
   "cell_type": "code",
   "execution_count": 71,
   "id": "68c98018",
   "metadata": {},
   "outputs": [],
   "source": [
    "from sklearn import preprocessing \n",
    "label_encoder = preprocessing.LabelEncoder() \n",
    "df_s['RequestorSeniority']= label_encoder.fit_transform(df_s['RequestorSeniority'])"
   ]
  },
  {
   "cell_type": "code",
   "execution_count": 72,
   "id": "7c67c9a4",
   "metadata": {},
   "outputs": [
    {
     "data": {
      "text/html": [
       "<div>\n",
       "<style scoped>\n",
       "    .dataframe tbody tr th:only-of-type {\n",
       "        vertical-align: middle;\n",
       "    }\n",
       "\n",
       "    .dataframe tbody tr th {\n",
       "        vertical-align: top;\n",
       "    }\n",
       "\n",
       "    .dataframe thead th {\n",
       "        text-align: right;\n",
       "    }\n",
       "</style>\n",
       "<table border=\"1\" class=\"dataframe\">\n",
       "  <thead>\n",
       "    <tr style=\"text-align: right;\">\n",
       "      <th></th>\n",
       "      <th>requestor</th>\n",
       "      <th>ITOwner</th>\n",
       "      <th>daysOpen</th>\n",
       "      <th>RequestorSeniority</th>\n",
       "      <th>FiledAgainst</th>\n",
       "      <th>TicketType</th>\n",
       "      <th>Severity</th>\n",
       "      <th>Priority</th>\n",
       "      <th>Satisfaction</th>\n",
       "    </tr>\n",
       "  </thead>\n",
       "  <tbody>\n",
       "    <tr>\n",
       "      <th>0</th>\n",
       "      <td>1.610737</td>\n",
       "      <td>1.699388</td>\n",
       "      <td>-0.514379</td>\n",
       "      <td>0</td>\n",
       "      <td>Systems</td>\n",
       "      <td>Issue</td>\n",
       "      <td>2</td>\n",
       "      <td>0</td>\n",
       "      <td>1</td>\n",
       "    </tr>\n",
       "    <tr>\n",
       "      <th>1</th>\n",
       "      <td>1.018578</td>\n",
       "      <td>-0.729287</td>\n",
       "      <td>-0.206609</td>\n",
       "      <td>1</td>\n",
       "      <td>Software</td>\n",
       "      <td>Request</td>\n",
       "      <td>1</td>\n",
       "      <td>1</td>\n",
       "      <td>1</td>\n",
       "    </tr>\n",
       "    <tr>\n",
       "      <th>2</th>\n",
       "      <td>-0.127648</td>\n",
       "      <td>-0.729287</td>\n",
       "      <td>-0.976033</td>\n",
       "      <td>1</td>\n",
       "      <td>Access/Login</td>\n",
       "      <td>Request</td>\n",
       "      <td>2</td>\n",
       "      <td>0</td>\n",
       "      <td>0</td>\n",
       "    </tr>\n",
       "    <tr>\n",
       "      <th>3</th>\n",
       "      <td>-1.014156</td>\n",
       "      <td>-0.243552</td>\n",
       "      <td>2.101662</td>\n",
       "      <td>3</td>\n",
       "      <td>Systems</td>\n",
       "      <td>Request</td>\n",
       "      <td>2</td>\n",
       "      <td>0</td>\n",
       "      <td>0</td>\n",
       "    </tr>\n",
       "    <tr>\n",
       "      <th>4</th>\n",
       "      <td>-1.178644</td>\n",
       "      <td>-0.243552</td>\n",
       "      <td>-0.822149</td>\n",
       "      <td>0</td>\n",
       "      <td>Access/Login</td>\n",
       "      <td>Request</td>\n",
       "      <td>2</td>\n",
       "      <td>1</td>\n",
       "      <td>1</td>\n",
       "    </tr>\n",
       "  </tbody>\n",
       "</table>\n",
       "</div>"
      ],
      "text/plain": [
       "   requestor   ITOwner  daysOpen  RequestorSeniority  FiledAgainst TicketType  \\\n",
       "0   1.610737  1.699388 -0.514379                   0       Systems      Issue   \n",
       "1   1.018578 -0.729287 -0.206609                   1      Software    Request   \n",
       "2  -0.127648 -0.729287 -0.976033                   1  Access/Login    Request   \n",
       "3  -1.014156 -0.243552  2.101662                   3       Systems    Request   \n",
       "4  -1.178644 -0.243552 -0.822149                   0  Access/Login    Request   \n",
       "\n",
       "   Severity  Priority  Satisfaction  \n",
       "0         2         0             1  \n",
       "1         1         1             1  \n",
       "2         2         0             0  \n",
       "3         2         0             0  \n",
       "4         2         1             1  "
      ]
     },
     "execution_count": 72,
     "metadata": {},
     "output_type": "execute_result"
    }
   ],
   "source": [
    "df_s.head()"
   ]
  },
  {
   "cell_type": "code",
   "execution_count": 73,
   "id": "01ed7a74",
   "metadata": {},
   "outputs": [
    {
     "data": {
      "text/html": [
       "<div>\n",
       "<style scoped>\n",
       "    .dataframe tbody tr th:only-of-type {\n",
       "        vertical-align: middle;\n",
       "    }\n",
       "\n",
       "    .dataframe tbody tr th {\n",
       "        vertical-align: top;\n",
       "    }\n",
       "\n",
       "    .dataframe thead th {\n",
       "        text-align: right;\n",
       "    }\n",
       "</style>\n",
       "<table border=\"1\" class=\"dataframe\">\n",
       "  <thead>\n",
       "    <tr style=\"text-align: right;\">\n",
       "      <th></th>\n",
       "      <th>requestor</th>\n",
       "      <th>ITOwner</th>\n",
       "      <th>daysOpen</th>\n",
       "      <th>RequestorSeniority</th>\n",
       "      <th>FiledAgainst</th>\n",
       "      <th>TicketType</th>\n",
       "      <th>Severity</th>\n",
       "      <th>Priority</th>\n",
       "      <th>Satisfaction</th>\n",
       "    </tr>\n",
       "  </thead>\n",
       "  <tbody>\n",
       "    <tr>\n",
       "      <th>0</th>\n",
       "      <td>1.610737</td>\n",
       "      <td>1.699388</td>\n",
       "      <td>-0.514379</td>\n",
       "      <td>0</td>\n",
       "      <td>Systems</td>\n",
       "      <td>Issue</td>\n",
       "      <td>2</td>\n",
       "      <td>0</td>\n",
       "      <td>1</td>\n",
       "    </tr>\n",
       "    <tr>\n",
       "      <th>1</th>\n",
       "      <td>1.018578</td>\n",
       "      <td>-0.729287</td>\n",
       "      <td>-0.206609</td>\n",
       "      <td>1</td>\n",
       "      <td>Software</td>\n",
       "      <td>Request</td>\n",
       "      <td>1</td>\n",
       "      <td>1</td>\n",
       "      <td>1</td>\n",
       "    </tr>\n",
       "    <tr>\n",
       "      <th>2</th>\n",
       "      <td>-0.127648</td>\n",
       "      <td>-0.729287</td>\n",
       "      <td>-0.976033</td>\n",
       "      <td>1</td>\n",
       "      <td>Access/Login</td>\n",
       "      <td>Request</td>\n",
       "      <td>2</td>\n",
       "      <td>0</td>\n",
       "      <td>0</td>\n",
       "    </tr>\n",
       "    <tr>\n",
       "      <th>3</th>\n",
       "      <td>-1.014156</td>\n",
       "      <td>-0.243552</td>\n",
       "      <td>2.101662</td>\n",
       "      <td>3</td>\n",
       "      <td>Systems</td>\n",
       "      <td>Request</td>\n",
       "      <td>2</td>\n",
       "      <td>0</td>\n",
       "      <td>0</td>\n",
       "    </tr>\n",
       "    <tr>\n",
       "      <th>4</th>\n",
       "      <td>-1.178644</td>\n",
       "      <td>-0.243552</td>\n",
       "      <td>-0.822149</td>\n",
       "      <td>0</td>\n",
       "      <td>Access/Login</td>\n",
       "      <td>Request</td>\n",
       "      <td>2</td>\n",
       "      <td>1</td>\n",
       "      <td>1</td>\n",
       "    </tr>\n",
       "  </tbody>\n",
       "</table>\n",
       "</div>"
      ],
      "text/plain": [
       "   requestor   ITOwner  daysOpen  RequestorSeniority  FiledAgainst TicketType  \\\n",
       "0   1.610737  1.699388 -0.514379                   0       Systems      Issue   \n",
       "1   1.018578 -0.729287 -0.206609                   1      Software    Request   \n",
       "2  -0.127648 -0.729287 -0.976033                   1  Access/Login    Request   \n",
       "3  -1.014156 -0.243552  2.101662                   3       Systems    Request   \n",
       "4  -1.178644 -0.243552 -0.822149                   0  Access/Login    Request   \n",
       "\n",
       "   Severity  Priority  Satisfaction  \n",
       "0         2         0             1  \n",
       "1         1         1             1  \n",
       "2         2         0             0  \n",
       "3         2         0             0  \n",
       "4         2         1             1  "
      ]
     },
     "execution_count": 73,
     "metadata": {},
     "output_type": "execute_result"
    }
   ],
   "source": [
    "df_s['Severity']= label_encoder.fit_transform(df_s['Severity'])\n",
    "df_s.head()"
   ]
  },
  {
   "cell_type": "code",
   "execution_count": 74,
   "id": "8739aaab",
   "metadata": {},
   "outputs": [
    {
     "data": {
      "text/html": [
       "<div>\n",
       "<style scoped>\n",
       "    .dataframe tbody tr th:only-of-type {\n",
       "        vertical-align: middle;\n",
       "    }\n",
       "\n",
       "    .dataframe tbody tr th {\n",
       "        vertical-align: top;\n",
       "    }\n",
       "\n",
       "    .dataframe thead th {\n",
       "        text-align: right;\n",
       "    }\n",
       "</style>\n",
       "<table border=\"1\" class=\"dataframe\">\n",
       "  <thead>\n",
       "    <tr style=\"text-align: right;\">\n",
       "      <th></th>\n",
       "      <th>requestor</th>\n",
       "      <th>ITOwner</th>\n",
       "      <th>daysOpen</th>\n",
       "      <th>RequestorSeniority</th>\n",
       "      <th>FiledAgainst</th>\n",
       "      <th>TicketType</th>\n",
       "      <th>Severity</th>\n",
       "      <th>Priority</th>\n",
       "      <th>Satisfaction</th>\n",
       "    </tr>\n",
       "  </thead>\n",
       "  <tbody>\n",
       "    <tr>\n",
       "      <th>0</th>\n",
       "      <td>1.610737</td>\n",
       "      <td>1.699388</td>\n",
       "      <td>-0.514379</td>\n",
       "      <td>0</td>\n",
       "      <td>Systems</td>\n",
       "      <td>Issue</td>\n",
       "      <td>2</td>\n",
       "      <td>0</td>\n",
       "      <td>1</td>\n",
       "    </tr>\n",
       "    <tr>\n",
       "      <th>1</th>\n",
       "      <td>1.018578</td>\n",
       "      <td>-0.729287</td>\n",
       "      <td>-0.206609</td>\n",
       "      <td>1</td>\n",
       "      <td>Software</td>\n",
       "      <td>Request</td>\n",
       "      <td>1</td>\n",
       "      <td>1</td>\n",
       "      <td>1</td>\n",
       "    </tr>\n",
       "    <tr>\n",
       "      <th>2</th>\n",
       "      <td>-0.127648</td>\n",
       "      <td>-0.729287</td>\n",
       "      <td>-0.976033</td>\n",
       "      <td>1</td>\n",
       "      <td>Access/Login</td>\n",
       "      <td>Request</td>\n",
       "      <td>2</td>\n",
       "      <td>0</td>\n",
       "      <td>0</td>\n",
       "    </tr>\n",
       "    <tr>\n",
       "      <th>3</th>\n",
       "      <td>-1.014156</td>\n",
       "      <td>-0.243552</td>\n",
       "      <td>2.101662</td>\n",
       "      <td>3</td>\n",
       "      <td>Systems</td>\n",
       "      <td>Request</td>\n",
       "      <td>2</td>\n",
       "      <td>0</td>\n",
       "      <td>0</td>\n",
       "    </tr>\n",
       "    <tr>\n",
       "      <th>4</th>\n",
       "      <td>-1.178644</td>\n",
       "      <td>-0.243552</td>\n",
       "      <td>-0.822149</td>\n",
       "      <td>0</td>\n",
       "      <td>Access/Login</td>\n",
       "      <td>Request</td>\n",
       "      <td>2</td>\n",
       "      <td>1</td>\n",
       "      <td>1</td>\n",
       "    </tr>\n",
       "  </tbody>\n",
       "</table>\n",
       "</div>"
      ],
      "text/plain": [
       "   requestor   ITOwner  daysOpen  RequestorSeniority  FiledAgainst TicketType  \\\n",
       "0   1.610737  1.699388 -0.514379                   0       Systems      Issue   \n",
       "1   1.018578 -0.729287 -0.206609                   1      Software    Request   \n",
       "2  -0.127648 -0.729287 -0.976033                   1  Access/Login    Request   \n",
       "3  -1.014156 -0.243552  2.101662                   3       Systems    Request   \n",
       "4  -1.178644 -0.243552 -0.822149                   0  Access/Login    Request   \n",
       "\n",
       "   Severity  Priority  Satisfaction  \n",
       "0         2         0             1  \n",
       "1         1         1             1  \n",
       "2         2         0             0  \n",
       "3         2         0             0  \n",
       "4         2         1             1  "
      ]
     },
     "execution_count": 74,
     "metadata": {},
     "output_type": "execute_result"
    }
   ],
   "source": [
    "df_s['Priority']= label_encoder.fit_transform(df_s['Priority'])\n",
    "df_s.head()"
   ]
  },
  {
   "cell_type": "code",
   "execution_count": 75,
   "id": "0e8ec70b",
   "metadata": {},
   "outputs": [
    {
     "data": {
      "text/html": [
       "<div>\n",
       "<style scoped>\n",
       "    .dataframe tbody tr th:only-of-type {\n",
       "        vertical-align: middle;\n",
       "    }\n",
       "\n",
       "    .dataframe tbody tr th {\n",
       "        vertical-align: top;\n",
       "    }\n",
       "\n",
       "    .dataframe thead th {\n",
       "        text-align: right;\n",
       "    }\n",
       "</style>\n",
       "<table border=\"1\" class=\"dataframe\">\n",
       "  <thead>\n",
       "    <tr style=\"text-align: right;\">\n",
       "      <th></th>\n",
       "      <th>requestor</th>\n",
       "      <th>ITOwner</th>\n",
       "      <th>daysOpen</th>\n",
       "      <th>RequestorSeniority</th>\n",
       "      <th>FiledAgainst</th>\n",
       "      <th>TicketType</th>\n",
       "      <th>Severity</th>\n",
       "      <th>Priority</th>\n",
       "      <th>Satisfaction</th>\n",
       "    </tr>\n",
       "  </thead>\n",
       "  <tbody>\n",
       "    <tr>\n",
       "      <th>0</th>\n",
       "      <td>1.610737</td>\n",
       "      <td>1.699388</td>\n",
       "      <td>-0.514379</td>\n",
       "      <td>0</td>\n",
       "      <td>Systems</td>\n",
       "      <td>Issue</td>\n",
       "      <td>2</td>\n",
       "      <td>0</td>\n",
       "      <td>1</td>\n",
       "    </tr>\n",
       "    <tr>\n",
       "      <th>1</th>\n",
       "      <td>1.018578</td>\n",
       "      <td>-0.729287</td>\n",
       "      <td>-0.206609</td>\n",
       "      <td>1</td>\n",
       "      <td>Software</td>\n",
       "      <td>Request</td>\n",
       "      <td>1</td>\n",
       "      <td>1</td>\n",
       "      <td>1</td>\n",
       "    </tr>\n",
       "    <tr>\n",
       "      <th>2</th>\n",
       "      <td>-0.127648</td>\n",
       "      <td>-0.729287</td>\n",
       "      <td>-0.976033</td>\n",
       "      <td>1</td>\n",
       "      <td>Access/Login</td>\n",
       "      <td>Request</td>\n",
       "      <td>2</td>\n",
       "      <td>0</td>\n",
       "      <td>0</td>\n",
       "    </tr>\n",
       "    <tr>\n",
       "      <th>3</th>\n",
       "      <td>-1.014156</td>\n",
       "      <td>-0.243552</td>\n",
       "      <td>2.101662</td>\n",
       "      <td>3</td>\n",
       "      <td>Systems</td>\n",
       "      <td>Request</td>\n",
       "      <td>2</td>\n",
       "      <td>0</td>\n",
       "      <td>0</td>\n",
       "    </tr>\n",
       "    <tr>\n",
       "      <th>4</th>\n",
       "      <td>-1.178644</td>\n",
       "      <td>-0.243552</td>\n",
       "      <td>-0.822149</td>\n",
       "      <td>0</td>\n",
       "      <td>Access/Login</td>\n",
       "      <td>Request</td>\n",
       "      <td>2</td>\n",
       "      <td>1</td>\n",
       "      <td>1</td>\n",
       "    </tr>\n",
       "  </tbody>\n",
       "</table>\n",
       "</div>"
      ],
      "text/plain": [
       "   requestor   ITOwner  daysOpen  RequestorSeniority  FiledAgainst TicketType  \\\n",
       "0   1.610737  1.699388 -0.514379                   0       Systems      Issue   \n",
       "1   1.018578 -0.729287 -0.206609                   1      Software    Request   \n",
       "2  -0.127648 -0.729287 -0.976033                   1  Access/Login    Request   \n",
       "3  -1.014156 -0.243552  2.101662                   3       Systems    Request   \n",
       "4  -1.178644 -0.243552 -0.822149                   0  Access/Login    Request   \n",
       "\n",
       "   Severity  Priority  Satisfaction  \n",
       "0         2         0             1  \n",
       "1         1         1             1  \n",
       "2         2         0             0  \n",
       "3         2         0             0  \n",
       "4         2         1             1  "
      ]
     },
     "execution_count": 75,
     "metadata": {},
     "output_type": "execute_result"
    }
   ],
   "source": [
    "df_s['Satisfaction']= label_encoder.fit_transform(df_s['Satisfaction'])\n",
    "df_s.head()"
   ]
  },
  {
   "cell_type": "code",
   "execution_count": 76,
   "id": "4f87222d",
   "metadata": {},
   "outputs": [
    {
     "name": "stdout",
     "output_type": "stream",
     "text": [
      "<class 'pandas.core.frame.DataFrame'>\n",
      "RangeIndex: 98084 entries, 0 to 98083\n",
      "Data columns (total 11 columns):\n",
      " #   Column                 Non-Null Count  Dtype  \n",
      "---  ------                 --------------  -----  \n",
      " 0   requestor              98084 non-null  float64\n",
      " 1   ITOwner                98084 non-null  float64\n",
      " 2   daysOpen               98084 non-null  float64\n",
      " 3   RequestorSeniority     98084 non-null  int64  \n",
      " 4   Severity               98084 non-null  int64  \n",
      " 5   Priority               98084 non-null  int64  \n",
      " 6   Satisfaction           98084 non-null  int64  \n",
      " 7   FiledAgainst_Hardware  98084 non-null  uint8  \n",
      " 8   FiledAgainst_Software  98084 non-null  uint8  \n",
      " 9   FiledAgainst_Systems   98084 non-null  uint8  \n",
      " 10  TicketType_Request     98084 non-null  uint8  \n",
      "dtypes: float64(3), int64(4), uint8(4)\n",
      "memory usage: 5.6 MB\n"
     ]
    }
   ],
   "source": [
    "# Identify categorical variables\n",
    "categorical_vars = df_s.select_dtypes(include='object').columns\n",
    "\n",
    "# One-hot encode categorical variables using get_dummies\n",
    "encoded_categorical = pd.get_dummies(df_s[categorical_vars], prefix=categorical_vars, drop_first=True)\n",
    "\n",
    "# Select numeric variables\n",
    "numerical_data = df_s.select_dtypes(exclude='object')\n",
    "\n",
    "# Combine numerical and encoded categorical data\n",
    "df3 = pd.concat([numerical_data, encoded_categorical], axis=1)\n",
    "\n",
    "df3.info()"
   ]
  },
  {
   "cell_type": "code",
   "execution_count": 77,
   "id": "ae2c5c58",
   "metadata": {},
   "outputs": [
    {
     "data": {
      "text/html": [
       "<div>\n",
       "<style scoped>\n",
       "    .dataframe tbody tr th:only-of-type {\n",
       "        vertical-align: middle;\n",
       "    }\n",
       "\n",
       "    .dataframe tbody tr th {\n",
       "        vertical-align: top;\n",
       "    }\n",
       "\n",
       "    .dataframe thead th {\n",
       "        text-align: right;\n",
       "    }\n",
       "</style>\n",
       "<table border=\"1\" class=\"dataframe\">\n",
       "  <thead>\n",
       "    <tr style=\"text-align: right;\">\n",
       "      <th></th>\n",
       "      <th>requestor</th>\n",
       "      <th>ITOwner</th>\n",
       "      <th>daysOpen</th>\n",
       "      <th>RequestorSeniority</th>\n",
       "      <th>Severity</th>\n",
       "      <th>Priority</th>\n",
       "      <th>Satisfaction</th>\n",
       "      <th>FiledAgainst_Hardware</th>\n",
       "      <th>FiledAgainst_Software</th>\n",
       "      <th>FiledAgainst_Systems</th>\n",
       "      <th>TicketType_Request</th>\n",
       "    </tr>\n",
       "  </thead>\n",
       "  <tbody>\n",
       "    <tr>\n",
       "      <th>0</th>\n",
       "      <td>1.610737</td>\n",
       "      <td>1.699388</td>\n",
       "      <td>-0.514379</td>\n",
       "      <td>0</td>\n",
       "      <td>2</td>\n",
       "      <td>0</td>\n",
       "      <td>1</td>\n",
       "      <td>0</td>\n",
       "      <td>0</td>\n",
       "      <td>1</td>\n",
       "      <td>0</td>\n",
       "    </tr>\n",
       "    <tr>\n",
       "      <th>1</th>\n",
       "      <td>1.018578</td>\n",
       "      <td>-0.729287</td>\n",
       "      <td>-0.206609</td>\n",
       "      <td>1</td>\n",
       "      <td>1</td>\n",
       "      <td>1</td>\n",
       "      <td>1</td>\n",
       "      <td>0</td>\n",
       "      <td>1</td>\n",
       "      <td>0</td>\n",
       "      <td>1</td>\n",
       "    </tr>\n",
       "    <tr>\n",
       "      <th>2</th>\n",
       "      <td>-0.127648</td>\n",
       "      <td>-0.729287</td>\n",
       "      <td>-0.976033</td>\n",
       "      <td>1</td>\n",
       "      <td>2</td>\n",
       "      <td>0</td>\n",
       "      <td>0</td>\n",
       "      <td>0</td>\n",
       "      <td>0</td>\n",
       "      <td>0</td>\n",
       "      <td>1</td>\n",
       "    </tr>\n",
       "    <tr>\n",
       "      <th>3</th>\n",
       "      <td>-1.014156</td>\n",
       "      <td>-0.243552</td>\n",
       "      <td>2.101662</td>\n",
       "      <td>3</td>\n",
       "      <td>2</td>\n",
       "      <td>0</td>\n",
       "      <td>0</td>\n",
       "      <td>0</td>\n",
       "      <td>0</td>\n",
       "      <td>1</td>\n",
       "      <td>1</td>\n",
       "    </tr>\n",
       "    <tr>\n",
       "      <th>4</th>\n",
       "      <td>-1.178644</td>\n",
       "      <td>-0.243552</td>\n",
       "      <td>-0.822149</td>\n",
       "      <td>0</td>\n",
       "      <td>2</td>\n",
       "      <td>1</td>\n",
       "      <td>1</td>\n",
       "      <td>0</td>\n",
       "      <td>0</td>\n",
       "      <td>0</td>\n",
       "      <td>1</td>\n",
       "    </tr>\n",
       "  </tbody>\n",
       "</table>\n",
       "</div>"
      ],
      "text/plain": [
       "   requestor   ITOwner  daysOpen  RequestorSeniority  Severity  Priority  \\\n",
       "0   1.610737  1.699388 -0.514379                   0         2         0   \n",
       "1   1.018578 -0.729287 -0.206609                   1         1         1   \n",
       "2  -0.127648 -0.729287 -0.976033                   1         2         0   \n",
       "3  -1.014156 -0.243552  2.101662                   3         2         0   \n",
       "4  -1.178644 -0.243552 -0.822149                   0         2         1   \n",
       "\n",
       "   Satisfaction  FiledAgainst_Hardware  FiledAgainst_Software  \\\n",
       "0             1                      0                      0   \n",
       "1             1                      0                      1   \n",
       "2             0                      0                      0   \n",
       "3             0                      0                      0   \n",
       "4             1                      0                      0   \n",
       "\n",
       "   FiledAgainst_Systems  TicketType_Request  \n",
       "0                     1                   0  \n",
       "1                     0                   1  \n",
       "2                     0                   1  \n",
       "3                     1                   1  \n",
       "4                     0                   1  "
      ]
     },
     "execution_count": 77,
     "metadata": {},
     "output_type": "execute_result"
    }
   ],
   "source": [
    "df3.head()"
   ]
  },
  {
   "cell_type": "code",
   "execution_count": 45,
   "id": "a432f9d4",
   "metadata": {},
   "outputs": [],
   "source": [
    "from sklearn.preprocessing import StandardScaler  # to standardize the features\n",
    "from sklearn.decomposition import PCA  # to apply PCA\n",
    "import seaborn as sns\n",
    "from sklearn.linear_model import LinearRegression\n",
    "from sklearn.model_selection import train_test_split"
   ]
  },
  {
   "cell_type": "code",
   "execution_count": 46,
   "id": "784daee2",
   "metadata": {},
   "outputs": [],
   "source": [
    "#df4 = df3.iloc[10:98084]"
   ]
  },
  {
   "cell_type": "code",
   "execution_count": 47,
   "id": "f6d419fd",
   "metadata": {},
   "outputs": [],
   "source": [
    "y = df3[['daysOpen']]"
   ]
  },
  {
   "cell_type": "code",
   "execution_count": 48,
   "id": "2a11991c",
   "metadata": {},
   "outputs": [],
   "source": [
    "x = df3\n",
    "x.drop(['daysOpen','requestor'], axis=1, inplace=True)"
   ]
  },
  {
   "cell_type": "code",
   "execution_count": 49,
   "id": "84c10e68",
   "metadata": {},
   "outputs": [],
   "source": [
    "X_train, X_test, Y_train, Y_test = train_test_split(x, y, test_size=0.25, random_state=0)"
   ]
  },
  {
   "cell_type": "markdown",
   "id": "9624030d",
   "metadata": {},
   "source": [
    "# Multilinear Regression"
   ]
  },
  {
   "cell_type": "code",
   "execution_count": 19,
   "id": "e68c16f0",
   "metadata": {},
   "outputs": [
    {
     "data": {
      "text/html": [
       "<style>#sk-container-id-1 {color: black;background-color: white;}#sk-container-id-1 pre{padding: 0;}#sk-container-id-1 div.sk-toggleable {background-color: white;}#sk-container-id-1 label.sk-toggleable__label {cursor: pointer;display: block;width: 100%;margin-bottom: 0;padding: 0.3em;box-sizing: border-box;text-align: center;}#sk-container-id-1 label.sk-toggleable__label-arrow:before {content: \"▸\";float: left;margin-right: 0.25em;color: #696969;}#sk-container-id-1 label.sk-toggleable__label-arrow:hover:before {color: black;}#sk-container-id-1 div.sk-estimator:hover label.sk-toggleable__label-arrow:before {color: black;}#sk-container-id-1 div.sk-toggleable__content {max-height: 0;max-width: 0;overflow: hidden;text-align: left;background-color: #f0f8ff;}#sk-container-id-1 div.sk-toggleable__content pre {margin: 0.2em;color: black;border-radius: 0.25em;background-color: #f0f8ff;}#sk-container-id-1 input.sk-toggleable__control:checked~div.sk-toggleable__content {max-height: 200px;max-width: 100%;overflow: auto;}#sk-container-id-1 input.sk-toggleable__control:checked~label.sk-toggleable__label-arrow:before {content: \"▾\";}#sk-container-id-1 div.sk-estimator input.sk-toggleable__control:checked~label.sk-toggleable__label {background-color: #d4ebff;}#sk-container-id-1 div.sk-label input.sk-toggleable__control:checked~label.sk-toggleable__label {background-color: #d4ebff;}#sk-container-id-1 input.sk-hidden--visually {border: 0;clip: rect(1px 1px 1px 1px);clip: rect(1px, 1px, 1px, 1px);height: 1px;margin: -1px;overflow: hidden;padding: 0;position: absolute;width: 1px;}#sk-container-id-1 div.sk-estimator {font-family: monospace;background-color: #f0f8ff;border: 1px dotted black;border-radius: 0.25em;box-sizing: border-box;margin-bottom: 0.5em;}#sk-container-id-1 div.sk-estimator:hover {background-color: #d4ebff;}#sk-container-id-1 div.sk-parallel-item::after {content: \"\";width: 100%;border-bottom: 1px solid gray;flex-grow: 1;}#sk-container-id-1 div.sk-label:hover label.sk-toggleable__label {background-color: #d4ebff;}#sk-container-id-1 div.sk-serial::before {content: \"\";position: absolute;border-left: 1px solid gray;box-sizing: border-box;top: 0;bottom: 0;left: 50%;z-index: 0;}#sk-container-id-1 div.sk-serial {display: flex;flex-direction: column;align-items: center;background-color: white;padding-right: 0.2em;padding-left: 0.2em;position: relative;}#sk-container-id-1 div.sk-item {position: relative;z-index: 1;}#sk-container-id-1 div.sk-parallel {display: flex;align-items: stretch;justify-content: center;background-color: white;position: relative;}#sk-container-id-1 div.sk-item::before, #sk-container-id-1 div.sk-parallel-item::before {content: \"\";position: absolute;border-left: 1px solid gray;box-sizing: border-box;top: 0;bottom: 0;left: 50%;z-index: -1;}#sk-container-id-1 div.sk-parallel-item {display: flex;flex-direction: column;z-index: 1;position: relative;background-color: white;}#sk-container-id-1 div.sk-parallel-item:first-child::after {align-self: flex-end;width: 50%;}#sk-container-id-1 div.sk-parallel-item:last-child::after {align-self: flex-start;width: 50%;}#sk-container-id-1 div.sk-parallel-item:only-child::after {width: 0;}#sk-container-id-1 div.sk-dashed-wrapped {border: 1px dashed gray;margin: 0 0.4em 0.5em 0.4em;box-sizing: border-box;padding-bottom: 0.4em;background-color: white;}#sk-container-id-1 div.sk-label label {font-family: monospace;font-weight: bold;display: inline-block;line-height: 1.2em;}#sk-container-id-1 div.sk-label-container {text-align: center;}#sk-container-id-1 div.sk-container {/* jupyter's `normalize.less` sets `[hidden] { display: none; }` but bootstrap.min.css set `[hidden] { display: none !important; }` so we also need the `!important` here to be able to override the default hidden behavior on the sphinx rendered scikit-learn.org. See: https://github.com/scikit-learn/scikit-learn/issues/21755 */display: inline-block !important;position: relative;}#sk-container-id-1 div.sk-text-repr-fallback {display: none;}</style><div id=\"sk-container-id-1\" class=\"sk-top-container\"><div class=\"sk-text-repr-fallback\"><pre>LinearRegression()</pre><b>In a Jupyter environment, please rerun this cell to show the HTML representation or trust the notebook. <br />On GitHub, the HTML representation is unable to render, please try loading this page with nbviewer.org.</b></div><div class=\"sk-container\" hidden><div class=\"sk-item\"><div class=\"sk-estimator sk-toggleable\"><input class=\"sk-toggleable__control sk-hidden--visually\" id=\"sk-estimator-id-1\" type=\"checkbox\" checked><label for=\"sk-estimator-id-1\" class=\"sk-toggleable__label sk-toggleable__label-arrow\">LinearRegression</label><div class=\"sk-toggleable__content\"><pre>LinearRegression()</pre></div></div></div></div></div>"
      ],
      "text/plain": [
       "LinearRegression()"
      ]
     },
     "execution_count": 19,
     "metadata": {},
     "output_type": "execute_result"
    }
   ],
   "source": [
    "model = LinearRegression()\n",
    "model.fit(X_train, Y_train)"
   ]
  },
  {
   "cell_type": "code",
   "execution_count": 20,
   "id": "88882e2a",
   "metadata": {},
   "outputs": [],
   "source": [
    "y_pred = model.predict(X_test)"
   ]
  },
  {
   "cell_type": "code",
   "execution_count": 21,
   "id": "c2aada97",
   "metadata": {},
   "outputs": [
    {
     "name": "stdout",
     "output_type": "stream",
     "text": [
      "Cross-Validation Scores: [0.55269927 0.55930104 0.55875729 0.55688288 0.55013163 0.55489546\n",
      " 0.55833564 0.55459566 0.55244513 0.55659361]\n",
      "Mean Cross-Validation Score: 0.5554637613931753\n"
     ]
    }
   ],
   "source": [
    "from sklearn.model_selection import cross_val_score\n",
    "\n",
    "# Assuming 'model' is already trained\n",
    "scores = cross_val_score(model, x, y, cv=10)  # 'cv' specifies the number of folds for cross-validation\n",
    "\n",
    "# Print the cross-validation scores\n",
    "print(\"Cross-Validation Scores:\", scores)\n",
    "print(\"Mean Cross-Validation Score:\", scores.mean())"
   ]
  },
  {
   "cell_type": "code",
   "execution_count": 22,
   "id": "4cb45772",
   "metadata": {},
   "outputs": [
    {
     "name": "stdout",
     "output_type": "stream",
     "text": [
      "R2 score is 0.5579962244099386\n"
     ]
    }
   ],
   "source": [
    "from sklearn.metrics import r2_score \n",
    "r2 = r2_score(Y_test, y_pred) \n",
    "print('R2 score is', r2)"
   ]
  },
  {
   "cell_type": "code",
   "execution_count": 23,
   "id": "c045214d",
   "metadata": {},
   "outputs": [
    {
     "name": "stdout",
     "output_type": "stream",
     "text": [
      "0.44225811155041245\n"
     ]
    }
   ],
   "source": [
    "from sklearn import metrics\n",
    "print(metrics.mean_squared_error(Y_test, y_pred))"
   ]
  },
  {
   "cell_type": "markdown",
   "id": "8134ea7c",
   "metadata": {},
   "source": [
    "# Random Forest"
   ]
  },
  {
   "cell_type": "code",
   "execution_count": 50,
   "id": "701dee0a",
   "metadata": {},
   "outputs": [],
   "source": [
    "from sklearn.ensemble import RandomForestRegressor\n",
    "from sklearn.model_selection import train_test_split"
   ]
  },
  {
   "cell_type": "code",
   "execution_count": 51,
   "id": "8de234de",
   "metadata": {},
   "outputs": [
    {
     "name": "stderr",
     "output_type": "stream",
     "text": [
      "C:\\Users\\91773\\AppData\\Local\\Temp/ipykernel_37420/3261123975.py:4: DataConversionWarning: A column-vector y was passed when a 1d array was expected. Please change the shape of y to (n_samples,), for example using ravel().\n",
      "  regressor.fit(X_train, Y_train)\n"
     ]
    },
    {
     "data": {
      "text/html": [
       "<style>#sk-container-id-3 {color: black;background-color: white;}#sk-container-id-3 pre{padding: 0;}#sk-container-id-3 div.sk-toggleable {background-color: white;}#sk-container-id-3 label.sk-toggleable__label {cursor: pointer;display: block;width: 100%;margin-bottom: 0;padding: 0.3em;box-sizing: border-box;text-align: center;}#sk-container-id-3 label.sk-toggleable__label-arrow:before {content: \"▸\";float: left;margin-right: 0.25em;color: #696969;}#sk-container-id-3 label.sk-toggleable__label-arrow:hover:before {color: black;}#sk-container-id-3 div.sk-estimator:hover label.sk-toggleable__label-arrow:before {color: black;}#sk-container-id-3 div.sk-toggleable__content {max-height: 0;max-width: 0;overflow: hidden;text-align: left;background-color: #f0f8ff;}#sk-container-id-3 div.sk-toggleable__content pre {margin: 0.2em;color: black;border-radius: 0.25em;background-color: #f0f8ff;}#sk-container-id-3 input.sk-toggleable__control:checked~div.sk-toggleable__content {max-height: 200px;max-width: 100%;overflow: auto;}#sk-container-id-3 input.sk-toggleable__control:checked~label.sk-toggleable__label-arrow:before {content: \"▾\";}#sk-container-id-3 div.sk-estimator input.sk-toggleable__control:checked~label.sk-toggleable__label {background-color: #d4ebff;}#sk-container-id-3 div.sk-label input.sk-toggleable__control:checked~label.sk-toggleable__label {background-color: #d4ebff;}#sk-container-id-3 input.sk-hidden--visually {border: 0;clip: rect(1px 1px 1px 1px);clip: rect(1px, 1px, 1px, 1px);height: 1px;margin: -1px;overflow: hidden;padding: 0;position: absolute;width: 1px;}#sk-container-id-3 div.sk-estimator {font-family: monospace;background-color: #f0f8ff;border: 1px dotted black;border-radius: 0.25em;box-sizing: border-box;margin-bottom: 0.5em;}#sk-container-id-3 div.sk-estimator:hover {background-color: #d4ebff;}#sk-container-id-3 div.sk-parallel-item::after {content: \"\";width: 100%;border-bottom: 1px solid gray;flex-grow: 1;}#sk-container-id-3 div.sk-label:hover label.sk-toggleable__label {background-color: #d4ebff;}#sk-container-id-3 div.sk-serial::before {content: \"\";position: absolute;border-left: 1px solid gray;box-sizing: border-box;top: 0;bottom: 0;left: 50%;z-index: 0;}#sk-container-id-3 div.sk-serial {display: flex;flex-direction: column;align-items: center;background-color: white;padding-right: 0.2em;padding-left: 0.2em;position: relative;}#sk-container-id-3 div.sk-item {position: relative;z-index: 1;}#sk-container-id-3 div.sk-parallel {display: flex;align-items: stretch;justify-content: center;background-color: white;position: relative;}#sk-container-id-3 div.sk-item::before, #sk-container-id-3 div.sk-parallel-item::before {content: \"\";position: absolute;border-left: 1px solid gray;box-sizing: border-box;top: 0;bottom: 0;left: 50%;z-index: -1;}#sk-container-id-3 div.sk-parallel-item {display: flex;flex-direction: column;z-index: 1;position: relative;background-color: white;}#sk-container-id-3 div.sk-parallel-item:first-child::after {align-self: flex-end;width: 50%;}#sk-container-id-3 div.sk-parallel-item:last-child::after {align-self: flex-start;width: 50%;}#sk-container-id-3 div.sk-parallel-item:only-child::after {width: 0;}#sk-container-id-3 div.sk-dashed-wrapped {border: 1px dashed gray;margin: 0 0.4em 0.5em 0.4em;box-sizing: border-box;padding-bottom: 0.4em;background-color: white;}#sk-container-id-3 div.sk-label label {font-family: monospace;font-weight: bold;display: inline-block;line-height: 1.2em;}#sk-container-id-3 div.sk-label-container {text-align: center;}#sk-container-id-3 div.sk-container {/* jupyter's `normalize.less` sets `[hidden] { display: none; }` but bootstrap.min.css set `[hidden] { display: none !important; }` so we also need the `!important` here to be able to override the default hidden behavior on the sphinx rendered scikit-learn.org. See: https://github.com/scikit-learn/scikit-learn/issues/21755 */display: inline-block !important;position: relative;}#sk-container-id-3 div.sk-text-repr-fallback {display: none;}</style><div id=\"sk-container-id-3\" class=\"sk-top-container\"><div class=\"sk-text-repr-fallback\"><pre>RandomForestRegressor(random_state=0)</pre><b>In a Jupyter environment, please rerun this cell to show the HTML representation or trust the notebook. <br />On GitHub, the HTML representation is unable to render, please try loading this page with nbviewer.org.</b></div><div class=\"sk-container\" hidden><div class=\"sk-item\"><div class=\"sk-estimator sk-toggleable\"><input class=\"sk-toggleable__control sk-hidden--visually\" id=\"sk-estimator-id-3\" type=\"checkbox\" checked><label for=\"sk-estimator-id-3\" class=\"sk-toggleable__label sk-toggleable__label-arrow\">RandomForestRegressor</label><div class=\"sk-toggleable__content\"><pre>RandomForestRegressor(random_state=0)</pre></div></div></div></div></div>"
      ],
      "text/plain": [
       "RandomForestRegressor(random_state=0)"
      ]
     },
     "execution_count": 51,
     "metadata": {},
     "output_type": "execute_result"
    }
   ],
   "source": [
    "# Training the Random Forest Regression model on the whole dataset\n",
    "from sklearn.ensemble import RandomForestRegressor\n",
    "regressor = RandomForestRegressor(random_state = 0)\n",
    "regressor.fit(X_train, Y_train)"
   ]
  },
  {
   "cell_type": "code",
   "execution_count": 52,
   "id": "afc486eb",
   "metadata": {},
   "outputs": [],
   "source": [
    "# Predicting the Test set results\n",
    "y_pred = regressor.predict(X_test)"
   ]
  },
  {
   "cell_type": "code",
   "execution_count": null,
   "id": "825193ed",
   "metadata": {},
   "outputs": [
    {
     "name": "stderr",
     "output_type": "stream",
     "text": [
      "C:\\Users\\91773\\AppData\\Local\\Programs\\Python\\Python310\\lib\\site-packages\\sklearn\\model_selection\\_validation.py:686: DataConversionWarning: A column-vector y was passed when a 1d array was expected. Please change the shape of y to (n_samples,), for example using ravel().\n",
      "  estimator.fit(X_train, y_train, **fit_params)\n"
     ]
    }
   ],
   "source": [
    "from sklearn.model_selection import cross_val_score\n",
    "\n",
    "# Assuming 'model' is already trained\n",
    "scores = cross_val_score(regressor, x, y, cv=10)  # 'cv' specifies the number of folds for cross-validation\n",
    "\n",
    "# Print the cross-validation scores\n",
    "print(\"Cross-Validation Scores:\", scores)\n",
    "print(\"Mean Cross-Validation Score:\", scores.mean())"
   ]
  },
  {
   "cell_type": "code",
   "execution_count": 53,
   "id": "b00efdaa",
   "metadata": {},
   "outputs": [
    {
     "data": {
      "text/plain": [
       "0.7708350652401622"
      ]
     },
     "execution_count": 53,
     "metadata": {},
     "output_type": "execute_result"
    }
   ],
   "source": [
    "# Evaluating the Model Performance\n",
    "from sklearn.metrics import r2_score\n",
    "r2_score(Y_test, y_pred)"
   ]
  },
  {
   "cell_type": "code",
   "execution_count": 54,
   "id": "f5b0f455",
   "metadata": {},
   "outputs": [
    {
     "name": "stdout",
     "output_type": "stream",
     "text": [
      "0.22929679988629081\n"
     ]
    }
   ],
   "source": [
    "from sklearn import metrics\n",
    "print(metrics.mean_squared_error(Y_test, y_pred))"
   ]
  },
  {
   "cell_type": "code",
   "execution_count": 57,
   "id": "c088276c",
   "metadata": {},
   "outputs": [
    {
     "data": {
      "image/png": "[encoded data removed]",
      "text/plain": [
       "<Figure size 432x288 with 1 Axes>"
      ]
     },
     "metadata": {
      "needs_background": "light"
     },
     "output_type": "display_data"
    }
   ],
   "source": [
    "import matplotlib.pyplot as plt\n",
    "plt.scatter(Y_test, y_pred)\n",
    "plt.xlabel('Actual Values')\n",
    "plt.ylabel('Predicted Values')\n",
    "plt.title('Actual vs Predicted Values')\n",
    "plt.show()"
   ]
  },
  {
   "cell_type": "markdown",
   "id": "64dfa027",
   "metadata": {},
   "source": [
    "# SVR"
   ]
  },
  {
   "cell_type": "code",
   "execution_count": 30,
   "id": "dc878e8c",
   "metadata": {},
   "outputs": [],
   "source": [
    "from sklearn.svm import SVR"
   ]
  },
  {
   "cell_type": "code",
   "execution_count": 31,
   "id": "360d7441",
   "metadata": {},
   "outputs": [
    {
     "name": "stderr",
     "output_type": "stream",
     "text": [
      "C:\\Users\\91773\\AppData\\Local\\Programs\\Python\\Python310\\lib\\site-packages\\sklearn\\utils\\validation.py:1111: DataConversionWarning: A column-vector y was passed when a 1d array was expected. Please change the shape of y to (n_samples, ), for example using ravel().\n",
      "  y = column_or_1d(y, warn=True)\n"
     ]
    },
    {
     "data": {
      "text/html": [
       "<style>#sk-container-id-3 {color: black;background-color: white;}#sk-container-id-3 pre{padding: 0;}#sk-container-id-3 div.sk-toggleable {background-color: white;}#sk-container-id-3 label.sk-toggleable__label {cursor: pointer;display: block;width: 100%;margin-bottom: 0;padding: 0.3em;box-sizing: border-box;text-align: center;}#sk-container-id-3 label.sk-toggleable__label-arrow:before {content: \"▸\";float: left;margin-right: 0.25em;color: #696969;}#sk-container-id-3 label.sk-toggleable__label-arrow:hover:before {color: black;}#sk-container-id-3 div.sk-estimator:hover label.sk-toggleable__label-arrow:before {color: black;}#sk-container-id-3 div.sk-toggleable__content {max-height: 0;max-width: 0;overflow: hidden;text-align: left;background-color: #f0f8ff;}#sk-container-id-3 div.sk-toggleable__content pre {margin: 0.2em;color: black;border-radius: 0.25em;background-color: #f0f8ff;}#sk-container-id-3 input.sk-toggleable__control:checked~div.sk-toggleable__content {max-height: 200px;max-width: 100%;overflow: auto;}#sk-container-id-3 input.sk-toggleable__control:checked~label.sk-toggleable__label-arrow:before {content: \"▾\";}#sk-container-id-3 div.sk-estimator input.sk-toggleable__control:checked~label.sk-toggleable__label {background-color: #d4ebff;}#sk-container-id-3 div.sk-label input.sk-toggleable__control:checked~label.sk-toggleable__label {background-color: #d4ebff;}#sk-container-id-3 input.sk-hidden--visually {border: 0;clip: rect(1px 1px 1px 1px);clip: rect(1px, 1px, 1px, 1px);height: 1px;margin: -1px;overflow: hidden;padding: 0;position: absolute;width: 1px;}#sk-container-id-3 div.sk-estimator {font-family: monospace;background-color: #f0f8ff;border: 1px dotted black;border-radius: 0.25em;box-sizing: border-box;margin-bottom: 0.5em;}#sk-container-id-3 div.sk-estimator:hover {background-color: #d4ebff;}#sk-container-id-3 div.sk-parallel-item::after {content: \"\";width: 100%;border-bottom: 1px solid gray;flex-grow: 1;}#sk-container-id-3 div.sk-label:hover label.sk-toggleable__label {background-color: #d4ebff;}#sk-container-id-3 div.sk-serial::before {content: \"\";position: absolute;border-left: 1px solid gray;box-sizing: border-box;top: 0;bottom: 0;left: 50%;z-index: 0;}#sk-container-id-3 div.sk-serial {display: flex;flex-direction: column;align-items: center;background-color: white;padding-right: 0.2em;padding-left: 0.2em;position: relative;}#sk-container-id-3 div.sk-item {position: relative;z-index: 1;}#sk-container-id-3 div.sk-parallel {display: flex;align-items: stretch;justify-content: center;background-color: white;position: relative;}#sk-container-id-3 div.sk-item::before, #sk-container-id-3 div.sk-parallel-item::before {content: \"\";position: absolute;border-left: 1px solid gray;box-sizing: border-box;top: 0;bottom: 0;left: 50%;z-index: -1;}#sk-container-id-3 div.sk-parallel-item {display: flex;flex-direction: column;z-index: 1;position: relative;background-color: white;}#sk-container-id-3 div.sk-parallel-item:first-child::after {align-self: flex-end;width: 50%;}#sk-container-id-3 div.sk-parallel-item:last-child::after {align-self: flex-start;width: 50%;}#sk-container-id-3 div.sk-parallel-item:only-child::after {width: 0;}#sk-container-id-3 div.sk-dashed-wrapped {border: 1px dashed gray;margin: 0 0.4em 0.5em 0.4em;box-sizing: border-box;padding-bottom: 0.4em;background-color: white;}#sk-container-id-3 div.sk-label label {font-family: monospace;font-weight: bold;display: inline-block;line-height: 1.2em;}#sk-container-id-3 div.sk-label-container {text-align: center;}#sk-container-id-3 div.sk-container {/* jupyter's `normalize.less` sets `[hidden] { display: none; }` but bootstrap.min.css set `[hidden] { display: none !important; }` so we also need the `!important` here to be able to override the default hidden behavior on the sphinx rendered scikit-learn.org. See: https://github.com/scikit-learn/scikit-learn/issues/21755 */display: inline-block !important;position: relative;}#sk-container-id-3 div.sk-text-repr-fallback {display: none;}</style><div id=\"sk-container-id-3\" class=\"sk-top-container\"><div class=\"sk-text-repr-fallback\"><pre>SVR()</pre><b>In a Jupyter environment, please rerun this cell to show the HTML representation or trust the notebook. <br />On GitHub, the HTML representation is unable to render, please try loading this page with nbviewer.org.</b></div><div class=\"sk-container\" hidden><div class=\"sk-item\"><div class=\"sk-estimator sk-toggleable\"><input class=\"sk-toggleable__control sk-hidden--visually\" id=\"sk-estimator-id-3\" type=\"checkbox\" checked><label for=\"sk-estimator-id-3\" class=\"sk-toggleable__label sk-toggleable__label-arrow\">SVR</label><div class=\"sk-toggleable__content\"><pre>SVR()</pre></div></div></div></div></div>"
      ],
      "text/plain": [
       "SVR()"
      ]
     },
     "execution_count": 31,
     "metadata": {},
     "output_type": "execute_result"
    }
   ],
   "source": [
    "# Training the SVR model on the Training set\n",
    "from sklearn.svm import SVR\n",
    "regressor = SVR()\n",
    "regressor.fit(X_train, Y_train)"
   ]
  },
  {
   "cell_type": "code",
   "execution_count": 32,
   "id": "5e249a64",
   "metadata": {},
   "outputs": [],
   "source": [
    "y_pred = regressor.predict(X_test)"
   ]
  },
  {
   "cell_type": "code",
   "execution_count": 33,
   "id": "6b255479",
   "metadata": {},
   "outputs": [
    {
     "name": "stdout",
     "output_type": "stream",
     "text": [
      "R2 score is 0.613895601723329\n"
     ]
    }
   ],
   "source": [
    "from sklearn.metrics import r2_score \n",
    "r2 = r2_score(Y_test, y_pred) \n",
    "print('R2 score is', r2)"
   ]
  },
  {
   "cell_type": "code",
   "execution_count": 34,
   "id": "95bbc39d",
   "metadata": {},
   "outputs": [
    {
     "name": "stdout",
     "output_type": "stream",
     "text": [
      "0.3863265688515724\n"
     ]
    }
   ],
   "source": [
    "print(metrics.mean_squared_error(Y_test, y_pred))"
   ]
  },
  {
   "cell_type": "code",
   "execution_count": 35,
   "id": "83970f4f",
   "metadata": {},
   "outputs": [
    {
     "name": "stderr",
     "output_type": "stream",
     "text": [
      "C:\\Users\\91773\\AppData\\Local\\Programs\\Python\\Python310\\lib\\site-packages\\sklearn\\utils\\validation.py:1111: DataConversionWarning: A column-vector y was passed when a 1d array was expected. Please change the shape of y to (n_samples, ), for example using ravel().\n",
      "  y = column_or_1d(y, warn=True)\n",
      "C:\\Users\\91773\\AppData\\Local\\Programs\\Python\\Python310\\lib\\site-packages\\sklearn\\utils\\validation.py:1111: DataConversionWarning: A column-vector y was passed when a 1d array was expected. Please change the shape of y to (n_samples, ), for example using ravel().\n",
      "  y = column_or_1d(y, warn=True)\n",
      "C:\\Users\\91773\\AppData\\Local\\Programs\\Python\\Python310\\lib\\site-packages\\sklearn\\utils\\validation.py:1111: DataConversionWarning: A column-vector y was passed when a 1d array was expected. Please change the shape of y to (n_samples, ), for example using ravel().\n",
      "  y = column_or_1d(y, warn=True)\n",
      "C:\\Users\\91773\\AppData\\Local\\Programs\\Python\\Python310\\lib\\site-packages\\sklearn\\utils\\validation.py:1111: DataConversionWarning: A column-vector y was passed when a 1d array was expected. Please change the shape of y to (n_samples, ), for example using ravel().\n",
      "  y = column_or_1d(y, warn=True)\n",
      "C:\\Users\\91773\\AppData\\Local\\Programs\\Python\\Python310\\lib\\site-packages\\sklearn\\utils\\validation.py:1111: DataConversionWarning: A column-vector y was passed when a 1d array was expected. Please change the shape of y to (n_samples, ), for example using ravel().\n",
      "  y = column_or_1d(y, warn=True)\n",
      "C:\\Users\\91773\\AppData\\Local\\Programs\\Python\\Python310\\lib\\site-packages\\sklearn\\utils\\validation.py:1111: DataConversionWarning: A column-vector y was passed when a 1d array was expected. Please change the shape of y to (n_samples, ), for example using ravel().\n",
      "  y = column_or_1d(y, warn=True)\n",
      "C:\\Users\\91773\\AppData\\Local\\Programs\\Python\\Python310\\lib\\site-packages\\sklearn\\utils\\validation.py:1111: DataConversionWarning: A column-vector y was passed when a 1d array was expected. Please change the shape of y to (n_samples, ), for example using ravel().\n",
      "  y = column_or_1d(y, warn=True)\n",
      "C:\\Users\\91773\\AppData\\Local\\Programs\\Python\\Python310\\lib\\site-packages\\sklearn\\utils\\validation.py:1111: DataConversionWarning: A column-vector y was passed when a 1d array was expected. Please change the shape of y to (n_samples, ), for example using ravel().\n",
      "  y = column_or_1d(y, warn=True)\n",
      "C:\\Users\\91773\\AppData\\Local\\Programs\\Python\\Python310\\lib\\site-packages\\sklearn\\utils\\validation.py:1111: DataConversionWarning: A column-vector y was passed when a 1d array was expected. Please change the shape of y to (n_samples, ), for example using ravel().\n",
      "  y = column_or_1d(y, warn=True)\n",
      "C:\\Users\\91773\\AppData\\Local\\Programs\\Python\\Python310\\lib\\site-packages\\sklearn\\utils\\validation.py:1111: DataConversionWarning: A column-vector y was passed when a 1d array was expected. Please change the shape of y to (n_samples, ), for example using ravel().\n",
      "  y = column_or_1d(y, warn=True)\n"
     ]
    },
    {
     "name": "stdout",
     "output_type": "stream",
     "text": [
      "Cross-Validation Scores: [0.61155369 0.6143892  0.6130618  0.6129836  0.60194714 0.61605885\n",
      " 0.61423617 0.61221854 0.61590609 0.6087761 ]\n",
      "Mean Cross-Validation Score: 0.6121131176759934\n"
     ]
    }
   ],
   "source": [
    "from sklearn.model_selection import cross_val_score\n",
    "\n",
    "# Assuming 'model' is already trained\n",
    "scores = cross_val_score(regressor, x, y, cv=10)  # 'cv' specifies the number of folds for cross-validation\n",
    "\n",
    "# Print the cross-validation scores\n",
    "print(\"Cross-Validation Scores:\", scores)\n",
    "print(\"Mean Cross-Validation Score:\", scores.mean())"
   ]
  },
  {
   "cell_type": "code",
   "execution_count": null,
   "id": "82a4ef00",
   "metadata": {},
   "outputs": [],
   "source": []
  }
 ],
 "metadata": {
  "kernelspec": {
   "display_name": "Python 3 (ipykernel)",
   "language": "python",
   "name": "python3"
  },
  "language_info": {
   "codemirror_mode": {
    "name": "ipython",
    "version": 3
   },
   "file_extension": ".py",
   "mimetype": "text/x-python",
   "name": "python",
   "nbconvert_exporter": "python",
   "pygments_lexer": "ipython3",
   "version": "3.10.2"
  }
 },
 "nbformat": 4,
 "nbformat_minor": 5
}
